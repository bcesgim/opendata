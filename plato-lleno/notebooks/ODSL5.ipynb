{
  "nbformat": 4,
  "nbformat_minor": 0,
  "metadata": {
    "colab": {
      "name": "ODSL5.ipynb",
      "provenance": [],
      "collapsed_sections": []
    },
    "kernelspec": {
      "name": "python3",
      "display_name": "Python 3"
    }
  },
  "cells": [
    {
      "cell_type": "code",
      "metadata": {
        "id": "tzvRDnrWt-ry",
        "colab_type": "code",
        "colab": {}
      },
      "source": [
        "import os\n",
        "import io\n",
        "import pandas as pd\n",
        "import numpy as np\n",
        "import matplotlib.pyplot as plt\n",
        "import seaborn as sns\n",
        "from datetime import datetime"
      ],
      "execution_count": 0,
      "outputs": []
    },
    {
      "cell_type": "markdown",
      "metadata": {
        "id": "L4I-ruBclV45",
        "colab_type": "text"
      },
      "source": [
        "Para vincular con el Drive:"
      ]
    },
    {
      "cell_type": "code",
      "metadata": {
        "id": "iYc-ChLUuRfv",
        "colab_type": "code",
        "outputId": "f2cc76a1-0807-4ff1-d7a5-ad6c0aa4f4b4",
        "colab": {
          "base_uri": "https://localhost:8080/",
          "height": 34
        }
      },
      "source": [
        "from google.colab import drive\n",
        "drive.mount('/content/drive')"
      ],
      "execution_count": 0,
      "outputs": [
        {
          "output_type": "stream",
          "text": [
            "Drive already mounted at /content/drive; to attempt to forcibly remount, call drive.mount(\"/content/drive\", force_remount=True).\n"
          ],
          "name": "stdout"
        }
      ]
    },
    {
      "cell_type": "code",
      "metadata": {
        "id": "CLzAMyJzuZ8r",
        "colab_type": "code",
        "colab": {}
      },
      "source": [
        "os.chdir(\"/content/drive/My Drive/ODSL\")\n",
        "\n",
        "# para acceder a la carpeta, en el siguiente link: \n",
        "# https://drive.google.com/drive/folders/1NitzdszUOLmGhHQxlZvybIDHNLl_b8bh?usp=sharing"
      ],
      "execution_count": 0,
      "outputs": []
    },
    {
      "cell_type": "code",
      "metadata": {
        "id": "AnG8fwQ5vGfQ",
        "colab_type": "code",
        "outputId": "ac805ff2-4f9e-4384-cce8-2b56b908b544",
        "colab": {
          "base_uri": "https://localhost:8080/",
          "height": 34
        }
      },
      "source": [
        "!ls"
      ],
      "execution_count": 0,
      "outputs": [
        {
          "output_type": "stream",
          "text": [
            "Grid_7-last_date_31-10-19.csv  ODSL5.ipynb\n"
          ],
          "name": "stdout"
        }
      ]
    },
    {
      "cell_type": "code",
      "metadata": {
        "id": "yHH6BYEhu88h",
        "colab_type": "code",
        "outputId": "2384e8cc-2426-4bb9-9ea5-6dc4d5231f35",
        "colab": {
          "base_uri": "https://localhost:8080/",
          "height": 578
        }
      },
      "source": [
        "plato=pd.read_csv('Grid_7-last_date_31-10-19.csv',index_col='Fecha', parse_dates=True)\n",
        "plato.head()"
      ],
      "execution_count": 0,
      "outputs": [
        {
          "output_type": "execute_result",
          "data": {
            "text/html": [
              "<div>\n",
              "<style scoped>\n",
              "    .dataframe tbody tr th:only-of-type {\n",
              "        vertical-align: middle;\n",
              "    }\n",
              "\n",
              "    .dataframe tbody tr th {\n",
              "        vertical-align: top;\n",
              "    }\n",
              "\n",
              "    .dataframe thead th {\n",
              "        text-align: right;\n",
              "    }\n",
              "</style>\n",
              "<table border=\"1\" class=\"dataframe\">\n",
              "  <thead>\n",
              "    <tr style=\"text-align: right;\">\n",
              "      <th></th>\n",
              "      <th>#res.glob</th>\n",
              "      <th>#rescate</th>\n",
              "      <th>Kilos</th>\n",
              "      <th>Duración</th>\n",
              "      <th>Solicitante</th>\n",
              "      <th>dirección retiro</th>\n",
              "      <th>Rescatistas</th>\n",
              "      <th>Puntos Retiro</th>\n",
              "      <th>Entregas</th>\n",
              "      <th>dirección entrega</th>\n",
              "      <th>Comentarios</th>\n",
              "      <th>Tipo</th>\n",
              "      <th>Fotos</th>\n",
              "      <th>Ciudad</th>\n",
              "      <th>Tipo de alimento</th>\n",
              "    </tr>\n",
              "    <tr>\n",
              "      <th>Fecha</th>\n",
              "      <th></th>\n",
              "      <th></th>\n",
              "      <th></th>\n",
              "      <th></th>\n",
              "      <th></th>\n",
              "      <th></th>\n",
              "      <th></th>\n",
              "      <th></th>\n",
              "      <th></th>\n",
              "      <th></th>\n",
              "      <th></th>\n",
              "      <th></th>\n",
              "      <th></th>\n",
              "      <th></th>\n",
              "      <th></th>\n",
              "    </tr>\n",
              "  </thead>\n",
              "  <tbody>\n",
              "    <tr>\n",
              "      <th>2019-10-31</th>\n",
              "      <td>2739-Mon</td>\n",
              "      <td>2739</td>\n",
              "      <td>40.0</td>\n",
              "      <td>NaN</td>\n",
              "      <td>Pagnifique</td>\n",
              "      <td>Shopping La Tahona Plaza</td>\n",
              "      <td>Lorens Pignatta</td>\n",
              "      <td>El Almacén</td>\n",
              "      <td>\"\"\"Comedor Cristiano Comunitario \"\"\"\"LA CRUZ D...</td>\n",
              "      <td>NaN</td>\n",
              "      <td>NaN</td>\n",
              "      <td>NaN</td>\n",
              "      <td>rescate #2739 photo 1.jpg (https://dl.airtable...</td>\n",
              "      <td>Montevideo</td>\n",
              "      <td>Frutas, verduras, panificados</td>\n",
              "    </tr>\n",
              "    <tr>\n",
              "      <th>2019-10-31</th>\n",
              "      <td>2738-Mon</td>\n",
              "      <td>2738</td>\n",
              "      <td>8.0</td>\n",
              "      <td>NaN</td>\n",
              "      <td>Pagnifique</td>\n",
              "      <td>Av Lezica 6345</td>\n",
              "      <td>Santiago Di Servi</td>\n",
              "      <td>Ta-Ta 322 Lezica</td>\n",
              "      <td>Oratorio La Tablada</td>\n",
              "      <td>Juan P. Lamolle 1639, esq Antonio Rubio</td>\n",
              "      <td>NaN</td>\n",
              "      <td>NaN</td>\n",
              "      <td>rescate #2738 photo 1.jpg (https://dl.airtable...</td>\n",
              "      <td>Montevideo</td>\n",
              "      <td>Pan y bizcochos</td>\n",
              "    </tr>\n",
              "    <tr>\n",
              "      <th>2019-10-31</th>\n",
              "      <td>2737-Mon</td>\n",
              "      <td>2737</td>\n",
              "      <td>4.0</td>\n",
              "      <td>NaN</td>\n",
              "      <td>Pagnifique</td>\n",
              "      <td>NaN</td>\n",
              "      <td>Rebeca</td>\n",
              "      <td>NaN</td>\n",
              "      <td>Comedor y Merendero Siglo XXI</td>\n",
              "      <td>NaN</td>\n",
              "      <td>NaN</td>\n",
              "      <td>NaN</td>\n",
              "      <td>rescate #2737 photo 1.jpg (https://dl.airtable...</td>\n",
              "      <td>Montevideo</td>\n",
              "      <td>Pan y bizcochos</td>\n",
              "    </tr>\n",
              "    <tr>\n",
              "      <th>2019-10-31</th>\n",
              "      <td>2736-Mon</td>\n",
              "      <td>2736</td>\n",
              "      <td>11.0</td>\n",
              "      <td>NaN</td>\n",
              "      <td>Pagnifique</td>\n",
              "      <td>Tata 311 Belloni 4393 / Tata 325 Gral Flores 5493</td>\n",
              "      <td>Ana y Yamandu</td>\n",
              "      <td>Ta-Ta Piedras Blancas</td>\n",
              "      <td>Merendero Nuevo Amanecer</td>\n",
              "      <td>San Cono 3981 Montevideo</td>\n",
              "      <td>NaN</td>\n",
              "      <td>NaN</td>\n",
              "      <td>rescate #2736 photo 1.jpg (https://dl.airtable...</td>\n",
              "      <td>Montevideo</td>\n",
              "      <td>Pan y bizcochos</td>\n",
              "    </tr>\n",
              "    <tr>\n",
              "      <th>2019-10-31</th>\n",
              "      <td>2735-Mon</td>\n",
              "      <td>2735</td>\n",
              "      <td>7.0</td>\n",
              "      <td>NaN</td>\n",
              "      <td>Pagnifique</td>\n",
              "      <td>Tata Las Piedras Artigas 810 /\\nTata Las Piedr...</td>\n",
              "      <td>Pastora Marisa Mendonza</td>\n",
              "      <td>Ta-Ta Las Piedras</td>\n",
              "      <td>Merendero Camino a Jerusalen</td>\n",
              "      <td>Calle Rondeau Mza 48 S 13 Las Piedras</td>\n",
              "      <td>NaN</td>\n",
              "      <td>NaN</td>\n",
              "      <td>rescate #2735 photo 1.jpg (https://dl.airtable...</td>\n",
              "      <td>Montevideo</td>\n",
              "      <td>Pan y bizcochos</td>\n",
              "    </tr>\n",
              "  </tbody>\n",
              "</table>\n",
              "</div>"
            ],
            "text/plain": [
              "           #res.glob  #rescate  ...      Ciudad               Tipo de alimento\n",
              "Fecha                           ...                                           \n",
              "2019-10-31  2739-Mon      2739  ...  Montevideo  Frutas, verduras, panificados\n",
              "2019-10-31  2738-Mon      2738  ...  Montevideo                Pan y bizcochos\n",
              "2019-10-31  2737-Mon      2737  ...  Montevideo                Pan y bizcochos\n",
              "2019-10-31  2736-Mon      2736  ...  Montevideo                Pan y bizcochos\n",
              "2019-10-31  2735-Mon      2735  ...  Montevideo                Pan y bizcochos\n",
              "\n",
              "[5 rows x 15 columns]"
            ]
          },
          "metadata": {
            "tags": []
          },
          "execution_count": 60
        }
      ]
    },
    {
      "cell_type": "markdown",
      "metadata": {
        "id": "wdV_8a46zoyi",
        "colab_type": "text"
      },
      "source": [
        "Para ver que clase de datos tenemos:"
      ]
    },
    {
      "cell_type": "code",
      "metadata": {
        "id": "NSXSXy8pvLwP",
        "colab_type": "code",
        "outputId": "ce079953-b4ec-428b-e49f-82de36af03fc",
        "colab": {
          "base_uri": "https://localhost:8080/",
          "height": 357
        }
      },
      "source": [
        "plato.info()"
      ],
      "execution_count": 0,
      "outputs": [
        {
          "output_type": "stream",
          "text": [
            "<class 'pandas.core.frame.DataFrame'>\n",
            "DatetimeIndex: 4202 entries, 2019-10-31 to 2017-08-28\n",
            "Data columns (total 15 columns):\n",
            "#res.glob            4202 non-null object\n",
            "#rescate             4202 non-null int64\n",
            "Kilos                4202 non-null float64\n",
            "Duración             333 non-null object\n",
            "Solicitante          4198 non-null object\n",
            "dirección retiro     3224 non-null object\n",
            "Rescatistas          4150 non-null object\n",
            "Puntos Retiro        4141 non-null object\n",
            "Entregas             4182 non-null object\n",
            "dirección entrega    182 non-null object\n",
            "Comentarios          166 non-null object\n",
            "Tipo                 3675 non-null object\n",
            "Fotos                3900 non-null object\n",
            "Ciudad               4202 non-null object\n",
            "Tipo de alimento     2783 non-null object\n",
            "dtypes: float64(1), int64(1), object(13)\n",
            "memory usage: 525.2+ KB\n"
          ],
          "name": "stdout"
        }
      ]
    },
    {
      "cell_type": "markdown",
      "metadata": {
        "id": "3t-o6aYzznOo",
        "colab_type": "text"
      },
      "source": [
        "Valores estadísticos de las columnas numéricas:"
      ]
    },
    {
      "cell_type": "code",
      "metadata": {
        "id": "p8XUBN_Aw72p",
        "colab_type": "code",
        "outputId": "750b0222-fb0d-43e7-97e6-aad0cd3dc65f",
        "colab": {
          "base_uri": "https://localhost:8080/",
          "height": 297
        }
      },
      "source": [
        "plato.describe()"
      ],
      "execution_count": 0,
      "outputs": [
        {
          "output_type": "execute_result",
          "data": {
            "text/html": [
              "<div>\n",
              "<style scoped>\n",
              "    .dataframe tbody tr th:only-of-type {\n",
              "        vertical-align: middle;\n",
              "    }\n",
              "\n",
              "    .dataframe tbody tr th {\n",
              "        vertical-align: top;\n",
              "    }\n",
              "\n",
              "    .dataframe thead th {\n",
              "        text-align: right;\n",
              "    }\n",
              "</style>\n",
              "<table border=\"1\" class=\"dataframe\">\n",
              "  <thead>\n",
              "    <tr style=\"text-align: right;\">\n",
              "      <th></th>\n",
              "      <th>#rescate</th>\n",
              "      <th>Kilos</th>\n",
              "    </tr>\n",
              "  </thead>\n",
              "  <tbody>\n",
              "    <tr>\n",
              "      <th>count</th>\n",
              "      <td>4202.000000</td>\n",
              "      <td>4202.000000</td>\n",
              "    </tr>\n",
              "    <tr>\n",
              "      <th>mean</th>\n",
              "      <td>1156.342456</td>\n",
              "      <td>143.665654</td>\n",
              "    </tr>\n",
              "    <tr>\n",
              "      <th>std</th>\n",
              "      <td>752.493240</td>\n",
              "      <td>737.611788</td>\n",
              "    </tr>\n",
              "    <tr>\n",
              "      <th>min</th>\n",
              "      <td>1.000000</td>\n",
              "      <td>0.000000</td>\n",
              "    </tr>\n",
              "    <tr>\n",
              "      <th>25%</th>\n",
              "      <td>526.000000</td>\n",
              "      <td>10.000000</td>\n",
              "    </tr>\n",
              "    <tr>\n",
              "      <th>50%</th>\n",
              "      <td>1051.500000</td>\n",
              "      <td>23.000000</td>\n",
              "    </tr>\n",
              "    <tr>\n",
              "      <th>75%</th>\n",
              "      <td>1687.750000</td>\n",
              "      <td>50.000000</td>\n",
              "    </tr>\n",
              "    <tr>\n",
              "      <th>max</th>\n",
              "      <td>2740.000000</td>\n",
              "      <td>32596.000000</td>\n",
              "    </tr>\n",
              "  </tbody>\n",
              "</table>\n",
              "</div>"
            ],
            "text/plain": [
              "          #rescate         Kilos\n",
              "count  4202.000000   4202.000000\n",
              "mean   1156.342456    143.665654\n",
              "std     752.493240    737.611788\n",
              "min       1.000000      0.000000\n",
              "25%     526.000000     10.000000\n",
              "50%    1051.500000     23.000000\n",
              "75%    1687.750000     50.000000\n",
              "max    2740.000000  32596.000000"
            ]
          },
          "metadata": {
            "tags": []
          },
          "execution_count": 62
        }
      ]
    },
    {
      "cell_type": "code",
      "metadata": {
        "id": "xuDvvzm7xikK",
        "colab_type": "code",
        "colab": {}
      },
      "source": [
        "#columnas_descartables = ['Duración','Fotos']\n",
        "#plato = plato.drop(columns=columnas_descartables)"
      ],
      "execution_count": 0,
      "outputs": []
    },
    {
      "cell_type": "markdown",
      "metadata": {
        "id": "4iq4v3g60sJG",
        "colab_type": "text"
      },
      "source": [
        "Por lo siguiente, se podría sugerir una codificación de alimentos:"
      ]
    },
    {
      "cell_type": "code",
      "metadata": {
        "id": "MAZfqkSs0BWn",
        "colab_type": "code",
        "outputId": "15485d12-c7d3-4766-f5f4-7a7bc01980ca",
        "colab": {
          "base_uri": "https://localhost:8080/",
          "height": 241
        }
      },
      "source": [
        "plato['Tipo de alimento'].value_counts()"
      ],
      "execution_count": 0,
      "outputs": [
        {
          "output_type": "execute_result",
          "data": {
            "text/plain": [
              "Pan y bizcochos                                                                                                                                                                                                     673\n",
              "Bizcochos y panes                                                                                                                                                                                                   388\n",
              "Pan y Bizcochos                                                                                                                                                                                                     272\n",
              "Panes y bizcochos                                                                                                                                                                                                   203\n",
              "Pan Y bizcochos                                                                                                                                                                                                     190\n",
              "                                                                                                                                                                                                                   ... \n",
              "Alimentos:\\nCantidad Bandejas\\nPapa al Horno: 8\\nCarne al Horno: 6\\nTarta de verdura: 4\\nTarta de Jamón y queso: 5\\nCarne de cerdo al Horno: 2\\nSuprema de pollo a la napolitana: 9\\n                                 1\n",
              "Pizzetas, hamburguesas, papas fritas                                                                                                                                                                                  1\n",
              "pan y Bizcochos                                                                                                                                                                                                       1\n",
              "RESCATE XL -\\nAlimentos:\\n>Empanadas 35 cajas x 50 unidades\\n> Aguas 82 pack x 12 uni\\n> Cindor 14 packs x 24\\n> Papas fritas 100 cajas x 10 uni\\n> muffins - 150 cajas x 12 uni\\n> Gaseosas - 90 packs x 12 uni      1\n",
              "Sandwiches de quese                                                                                                                                                                                                   1\n",
              "Name: Tipo de alimento, Length: 464, dtype: int64"
            ]
          },
          "metadata": {
            "tags": []
          },
          "execution_count": 64
        }
      ]
    },
    {
      "cell_type": "markdown",
      "metadata": {
        "id": "211fSHBW3U3x",
        "colab_type": "text"
      },
      "source": [
        "Se puede ver que el número de registros va aumentando con los años:"
      ]
    },
    {
      "cell_type": "code",
      "metadata": {
        "id": "fRzwkGlm1o7U",
        "colab_type": "code",
        "outputId": "d61d3b3e-ae1d-4720-e60b-dce83e63251a",
        "colab": {
          "base_uri": "https://localhost:8080/",
          "height": 153
        }
      },
      "source": [
        "plato['year'] = plato.index.year\n",
        "plato['year'].value_counts(ascending=True)"
      ],
      "execution_count": 0,
      "outputs": [
        {
          "output_type": "execute_result",
          "data": {
            "text/plain": [
              "2013       4\n",
              "2014      47\n",
              "2015     181\n",
              "2016     195\n",
              "2017     225\n",
              "2018    1097\n",
              "2019    2453\n",
              "Name: year, dtype: int64"
            ]
          },
          "metadata": {
            "tags": []
          },
          "execution_count": 65
        }
      ]
    },
    {
      "cell_type": "code",
      "metadata": {
        "id": "99GX22YQ2-8l",
        "colab_type": "code",
        "outputId": "da045783-91fd-45ca-94a0-db6d07f61608",
        "colab": {
          "base_uri": "https://localhost:8080/",
          "height": 301
        }
      },
      "source": [
        "plato.boxplot(column='Kilos',by='year');"
      ],
      "execution_count": 0,
      "outputs": [
        {
          "output_type": "display_data",
          "data": {
            "image/png": "[encoded data removed]",
            "text/plain": [
              "<Figure size 432x288 with 1 Axes>"
            ]
          },
          "metadata": {
            "tags": []
          }
        }
      ]
    },
    {
      "cell_type": "markdown",
      "metadata": {
        "id": "WeFo7Xpy6l5W",
        "colab_type": "text"
      },
      "source": [
        ""
      ]
    },
    {
      "cell_type": "code",
      "metadata": {
        "id": "JUckU5Mkbgyo",
        "colab_type": "code",
        "colab": {}
      },
      "source": [
        "plato['month'] = plato.index.month"
      ],
      "execution_count": 0,
      "outputs": []
    },
    {
      "cell_type": "code",
      "metadata": {
        "id": "LQ-YYRQGbkvD",
        "colab_type": "code",
        "outputId": "18e9999d-123b-4825-97fe-3df9bfc01cd6",
        "colab": {
          "base_uri": "https://localhost:8080/",
          "height": 301
        }
      },
      "source": [
        "plato.boxplot(column='Kilos',by='month');"
      ],
      "execution_count": 0,
      "outputs": [
        {
          "output_type": "display_data",
          "data": {
            "image/png": "[encoded data removed]",
            "text/plain": [
              "<Figure size 432x288 with 1 Axes>"
            ]
          },
          "metadata": {
            "tags": []
          }
        }
      ]
    },
    {
      "cell_type": "markdown",
      "metadata": {
        "id": "4VbSL3mAbwwC",
        "colab_type": "text"
      },
      "source": [
        "Es posible que el outlier máximo de kilos sea un valor mal registrado. No hay tratamiento de outliers todavía."
      ]
    },
    {
      "cell_type": "markdown",
      "metadata": {
        "id": "17ZAe5PK4sJx",
        "colab_type": "text"
      },
      "source": [
        "Si bien hay varias ciudades que conforman la red de Plato Lleno, este dataset consiste en dos ciudades, Montevideo y Buenos Aires."
      ]
    },
    {
      "cell_type": "code",
      "metadata": {
        "id": "tVvybW3XvTa9",
        "colab_type": "code",
        "outputId": "fd57f4b1-88ae-4f1c-9d76-9b9cf7a9b1ef",
        "colab": {
          "base_uri": "https://localhost:8080/",
          "height": 279
        }
      },
      "source": [
        "sns.countplot(plato.Ciudad)\n",
        "plt.show()"
      ],
      "execution_count": 0,
      "outputs": [
        {
          "output_type": "display_data",
          "data": {
            "image/png": "[encoded data removed]",
            "text/plain": [
              "<Figure size 432x288 with 1 Axes>"
            ]
          },
          "metadata": {
            "tags": []
          }
        }
      ]
    },
    {
      "cell_type": "code",
      "metadata": {
        "id": "sMp2nlx-zH9z",
        "colab_type": "code",
        "outputId": "4de640d3-d2ce-4fa0-b530-c8dfeb8fec3e",
        "colab": {
          "base_uri": "https://localhost:8080/",
          "height": 68
        }
      },
      "source": [
        "plato['Ciudad'].value_counts()"
      ],
      "execution_count": 0,
      "outputs": [
        {
          "output_type": "execute_result",
          "data": {
            "text/plain": [
              "Montevideo      2736\n",
              "Buenos Aires    1466\n",
              "Name: Ciudad, dtype: int64"
            ]
          },
          "metadata": {
            "tags": []
          },
          "execution_count": 70
        }
      ]
    },
    {
      "cell_type": "markdown",
      "metadata": {
        "id": "eG2owI7kXAYH",
        "colab_type": "text"
      },
      "source": [
        "Lo que se hace para Baires se puede hacer tranquilamente para Montevideo"
      ]
    },
    {
      "cell_type": "code",
      "metadata": {
        "id": "gThDPRaXDqIL",
        "colab_type": "code",
        "colab": {}
      },
      "source": [
        "Montevideo=plato[plato['Ciudad'].str.startswith('Montevideo')].copy()"
      ],
      "execution_count": 0,
      "outputs": []
    },
    {
      "cell_type": "code",
      "metadata": {
        "id": "_rp5ZwMSvruf",
        "colab_type": "code",
        "colab": {}
      },
      "source": [
        "Baires= plato[plato['Ciudad'].str.startswith('Buenos Aires')].sort_values(by=['Solicitante']).copy()"
      ],
      "execution_count": 0,
      "outputs": []
    },
    {
      "cell_type": "markdown",
      "metadata": {
        "id": "YxFeC8eZY-ok",
        "colab_type": "text"
      },
      "source": [
        "Quizás se podría hacer algo con las direcciones..."
      ]
    },
    {
      "cell_type": "code",
      "metadata": {
        "id": "vcCRucd8YytJ",
        "colab_type": "code",
        "outputId": "39d05a43-7444-4197-de86-9cd652968de0",
        "colab": {
          "base_uri": "https://localhost:8080/",
          "height": 629
        }
      },
      "source": [
        "Baires['dirección retiro'].unique()"
      ],
      "execution_count": 0,
      "outputs": [
        {
          "output_type": "execute_result",
          "data": {
            "text/plain": [
              "array([nan, 'Conde 101. Palermo\\n',\n",
              "       'Ayacucho 333, C1025AAG CABA, Argentina',\n",
              "       'Niceto Vega 4866. Palermo',\n",
              "       'Avenida San Martín 4600. La Paternal', 'Saravi 1799, La Lonja',\n",
              "       ' L. N. Alem 452. Microcentro.',\n",
              "       'Marcelo T. de Alvear 787. Microcentro',\n",
              "       '24 de Noviembre 827. Caballito', 'Juan B. Justo 1425. Béccar',\n",
              "       'M. Céspedes 1112. Florida', 'La Calandria 465. Villa Adelina ',\n",
              "       'Olga Cossettini 390. Puerto Madero',\n",
              "       'Eat Catering S.A, B1611DVE, Gral. Belgrano 2453, B1611DVE Don Torcuato, Buenos Aires',\n",
              "       'Juan Ramírez de Velasco 1150. Villa Crespo ',\n",
              "       'Santiago del Estero 1181. Constitución.',\n",
              "       'Av. Don Pedro de Mendoza 965. La Boca',\n",
              "       'Don Bosco 99. San Isidro', 'Av. Fondo de La Legua 856. Martínez',\n",
              "       'Zepita 3251, Barracas',\n",
              "       'Av. Bernabe Marquez 504, San Isidro, Buenos Aires',\n",
              "       'José Pascual Tamborini 4641/3 CABA', 'Manuela Pedraza 1633.',\n",
              "       'Asunción 4430, e/ H. Yrigoyen y Falucho. Ciudadela',\n",
              "       ' Colectora Av. Cantilo s/n, 1429 CABA', 'Italia 1470, Benavidez',\n",
              "       'España  857 (bajo de San Isidro)',\n",
              "       'Avenida del Campo 1301, esquina 14 de Julio. Chacarita\\n',\n",
              "       'Ruta 24 y Calle General Hornos. Moreno.',\n",
              "       'Jujuy 2013. Parque Patricios. // Juan Pablo García Alemán',\n",
              "       'Gorostiaga 1908, esquina Luis Maria Campos. Belgrano',\n",
              "       'Arévalo 1840. Palermo ',\n",
              "       'Autopista Ricchieri y Boulogne Sur Mer. Tapiales. // Débora // 5 Piso Oficina Acción Comunitaria ',\n",
              "       'Alicia Moreau de Justo ', 'Avenida Dorrego 1829. Palermo\\n',\n",
              "       'Pres. Santiago Derqui 4974. Munro',\n",
              "       'Lisandro de la Torre 1609. Lomas del Mirador',\n",
              "       'Santiago de Compostela 3801. Flores',\n",
              "       'Avenida Corrientes y 9 de Julio',\n",
              "       'Avenida Santa Fé 4116. Palermo',\n",
              "       'Avenida Eva Perón 5251. Mataderos',\n",
              "       'Fragata Pres. Sarmiento 2468, C1416CCB CABA. ',\n",
              "       'A. Simini 250. Campana.', 'Avenida Pedro Díaz 1800. Hurlingham.',\n",
              "       'Alferez Hipólito Bouchard 4191. Munro'], dtype=object)"
            ]
          },
          "metadata": {
            "tags": []
          },
          "execution_count": 45
        }
      ]
    },
    {
      "cell_type": "code",
      "metadata": {
        "id": "aIfDARjVFG-J",
        "colab_type": "code",
        "outputId": "d7c22f10-7fe0-49f0-d15b-0c90a35d6620",
        "colab": {
          "base_uri": "https://localhost:8080/",
          "height": 221
        }
      },
      "source": [
        "Baires['Solicitante'].value_counts()"
      ],
      "execution_count": 0,
      "outputs": [
        {
          "output_type": "execute_result",
          "data": {
            "text/plain": [
              "Grandwich                         244\n",
              "Mercado Central                   219\n",
              "Entrebollos                       175\n",
              "Dow                               145\n",
              "Eat Catering                       76\n",
              "                                 ... \n",
              "Copetín                             1\n",
              "Asociación Española San Isidro      1\n",
              "Marcelo Kohan y Magalí              1\n",
              "Javier Lopez                        1\n",
              "Crepas                              1\n",
              "Name: Solicitante, Length: 165, dtype: int64"
            ]
          },
          "metadata": {
            "tags": []
          },
          "execution_count": 46
        }
      ]
    },
    {
      "cell_type": "markdown",
      "metadata": {
        "id": "fKUfe9pqFJWv",
        "colab_type": "text"
      },
      "source": [
        "Para poder manejar con máscaras la frecuencia de los solicitantes entre ocasionales y frecuentes, se puede agregar la siguiente columna al dataset:"
      ]
    },
    {
      "cell_type": "code",
      "metadata": {
        "id": "2b9ah9KaDedO",
        "colab_type": "code",
        "colab": {}
      },
      "source": [
        "Baires['freq_solicitante'] = Baires.Solicitante.groupby(Baires.Solicitante).transform('count')"
      ],
      "execution_count": 0,
      "outputs": []
    },
    {
      "cell_type": "code",
      "metadata": {
        "id": "y1MMBlW1IzU0",
        "colab_type": "code",
        "outputId": "5bc7ee08-1be0-4296-dbe5-6cd4856e89fd",
        "colab": {
          "base_uri": "https://localhost:8080/",
          "height": 280
        }
      },
      "source": [
        "sns.countplot(Baires['freq_solicitante'])\n",
        "plt.show()"
      ],
      "execution_count": 0,
      "outputs": [
        {
          "output_type": "display_data",
          "data": {
            "image/png": "[encoded data removed]",
            "text/plain": [
              "<Figure size 432x288 with 1 Axes>"
            ]
          },
          "metadata": {
            "tags": []
          }
        }
      ]
    },
    {
      "cell_type": "markdown",
      "metadata": {
        "id": "wHYiJ2PFOQrh",
        "colab_type": "text"
      },
      "source": [
        "Igual... para determinar si hay un donante frecuente, además de las veces que ha donado, habría que determinar alguna relación con el tiempo.. si continúa por ej o si fue solo un momento.. quizás detectar si se dejó de donar cuál podría ser la razón o si es incipiente y está comenzando a donar de forma regular.. algo así, no sé muy bien como plasmar la idea.."
      ]
    },
    {
      "cell_type": "code",
      "metadata": {
        "id": "XN6aMW3hYRum",
        "colab_type": "code",
        "outputId": "a5b157a6-f98e-479c-e46e-42bc01260748",
        "colab": {
          "base_uri": "https://localhost:8080/",
          "height": 221
        }
      },
      "source": [
        "lss_freq =  Baires['freq_solicitante'] < 5\n",
        "less_than_five=Baires[lss_freq].copy()  \n",
        "less_than_five['Solicitante'].value_counts()"
      ],
      "execution_count": 0,
      "outputs": [
        {
          "output_type": "execute_result",
          "data": {
            "text/plain": [
              "Tree Cocina (Catering)            4\n",
              "Grace Café                        4\n",
              "El Merendungue                    4\n",
              "Romanoff                          4\n",
              "FEMSA                             4\n",
              "                                 ..\n",
              "Asociación Española San Isidro    1\n",
              "Marcelo Kohan y Magalí            1\n",
              "Javier Lopez                      1\n",
              "Etnika                            1\n",
              "Crepas                            1\n",
              "Name: Solicitante, Length: 133, dtype: int64"
            ]
          },
          "metadata": {
            "tags": []
          },
          "execution_count": 75
        }
      ]
    },
    {
      "cell_type": "code",
      "metadata": {
        "id": "6Lck3M3xKRCs",
        "colab_type": "code",
        "colab": {}
      },
      "source": [
        "mtn_once =  Baires['freq_solicitante'] >= 5\n",
        "more_than_once=Baires[mtn_once].copy()  "
      ],
      "execution_count": 0,
      "outputs": []
    },
    {
      "cell_type": "code",
      "metadata": {
        "id": "Spi7rbiVIlUM",
        "colab_type": "code",
        "outputId": "d0d9334f-4a9a-470c-afa1-38d20a2d7e76",
        "colab": {
          "base_uri": "https://localhost:8080/",
          "height": 578
        }
      },
      "source": [
        "more_than_once['Solicitante'].value_counts()"
      ],
      "execution_count": 0,
      "outputs": [
        {
          "output_type": "execute_result",
          "data": {
            "text/plain": [
              "Grandwich                      244\n",
              "Mercado Central                219\n",
              "Entrebollos                    175\n",
              "Dow                            145\n",
              "Eat Catering                    76\n",
              "The Brick Hotel                 48\n",
              "En Buenas Manos                 38\n",
              "La Estaca                       37\n",
              "Galindez (Catering)             36\n",
              "Guillén                         33\n",
              "Medallia                        28\n",
              "Fennel                          21\n",
              "Rescates Barriales              17\n",
              "Le Bouquet                      13\n",
              "The Cheesecake Company          12\n",
              "CAME                            12\n",
              "Gaurí                           12\n",
              "Unilever                        12\n",
              "Particular                      11\n",
              "Kokken Catering                  9\n",
              "Centro Primera Infancia          9\n",
              "Sushi Furusato Delivery          9\n",
              "Mariana Pages                    8\n",
              "CALSA                            8\n",
              "Alitower                         7\n",
              "Teylem                           7\n",
              "Mercado Béccar                   6\n",
              "Catering Labrador                5\n",
              "Guillén,Galindez (Catering)      5\n",
              "Papas Garlic                     5\n",
              "Banco Galicia                    5\n",
              "Sudamfos                         5\n",
              "Name: Solicitante, dtype: int64"
            ]
          },
          "metadata": {
            "tags": []
          },
          "execution_count": 77
        }
      ]
    },
    {
      "cell_type": "markdown",
      "metadata": {
        "id": "8WTh_PaDQLPo",
        "colab_type": "text"
      },
      "source": [
        "Se puede analizar por 'Solicitante' las fechas y entregas realizadas."
      ]
    },
    {
      "cell_type": "markdown",
      "metadata": {
        "id": "Qy8Kanm8bUcE",
        "colab_type": "text"
      },
      "source": [
        "Como Grandwich es el mayor solicitante, analizaremos sus datos:"
      ]
    },
    {
      "cell_type": "code",
      "metadata": {
        "id": "NRAqgLA7PVld",
        "colab_type": "code",
        "outputId": "3a984ef5-5239-4ffb-c6f9-f82b606ff194",
        "colab": {
          "base_uri": "https://localhost:8080/",
          "height": 442
        }
      },
      "source": [
        "Grandwich = Baires[Baires['Solicitante']=='Grandwich'].sort_values(by=['year'])\n",
        "Grandwich.head()\n"
      ],
      "execution_count": 0,
      "outputs": [
        {
          "output_type": "execute_result",
          "data": {
            "text/html": [
              "<div>\n",
              "<style scoped>\n",
              "    .dataframe tbody tr th:only-of-type {\n",
              "        vertical-align: middle;\n",
              "    }\n",
              "\n",
              "    .dataframe tbody tr th {\n",
              "        vertical-align: top;\n",
              "    }\n",
              "\n",
              "    .dataframe thead th {\n",
              "        text-align: right;\n",
              "    }\n",
              "</style>\n",
              "<table border=\"1\" class=\"dataframe\">\n",
              "  <thead>\n",
              "    <tr style=\"text-align: right;\">\n",
              "      <th></th>\n",
              "      <th>#res.glob</th>\n",
              "      <th>#rescate</th>\n",
              "      <th>Kilos</th>\n",
              "      <th>Duración</th>\n",
              "      <th>Solicitante</th>\n",
              "      <th>dirección retiro</th>\n",
              "      <th>Rescatistas</th>\n",
              "      <th>Puntos Retiro</th>\n",
              "      <th>Entregas</th>\n",
              "      <th>dirección entrega</th>\n",
              "      <th>Comentarios</th>\n",
              "      <th>Tipo</th>\n",
              "      <th>Fotos</th>\n",
              "      <th>Ciudad</th>\n",
              "      <th>Tipo de alimento</th>\n",
              "      <th>year</th>\n",
              "      <th>month</th>\n",
              "      <th>freq_solicitante</th>\n",
              "    </tr>\n",
              "    <tr>\n",
              "      <th>Fecha</th>\n",
              "      <th></th>\n",
              "      <th></th>\n",
              "      <th></th>\n",
              "      <th></th>\n",
              "      <th></th>\n",
              "      <th></th>\n",
              "      <th></th>\n",
              "      <th></th>\n",
              "      <th></th>\n",
              "      <th></th>\n",
              "      <th></th>\n",
              "      <th></th>\n",
              "      <th></th>\n",
              "      <th></th>\n",
              "      <th></th>\n",
              "      <th></th>\n",
              "      <th></th>\n",
              "      <th></th>\n",
              "    </tr>\n",
              "  </thead>\n",
              "  <tbody>\n",
              "    <tr>\n",
              "      <th>2015-10-16</th>\n",
              "      <td>142-Bue</td>\n",
              "      <td>142</td>\n",
              "      <td>53.0</td>\n",
              "      <td>NaN</td>\n",
              "      <td>Grandwich</td>\n",
              "      <td>Manuela Pedraza 1633.</td>\n",
              "      <td>María Serantes</td>\n",
              "      <td>Grandwich</td>\n",
              "      <td>María Eva</td>\n",
              "      <td>NaN</td>\n",
              "      <td>NaN</td>\n",
              "      <td>NaN</td>\n",
              "      <td>NaN</td>\n",
              "      <td>Buenos Aires</td>\n",
              "      <td>NaN</td>\n",
              "      <td>2015</td>\n",
              "      <td>10</td>\n",
              "      <td>244</td>\n",
              "    </tr>\n",
              "    <tr>\n",
              "      <th>2015-09-18</th>\n",
              "      <td>122-Bue</td>\n",
              "      <td>122</td>\n",
              "      <td>30.0</td>\n",
              "      <td>NaN</td>\n",
              "      <td>Grandwich</td>\n",
              "      <td>Manuela Pedraza 1633.</td>\n",
              "      <td>Leandro Ikonicoff,Analía Promoslovsky</td>\n",
              "      <td>Grandwich</td>\n",
              "      <td>María Eva</td>\n",
              "      <td>NaN</td>\n",
              "      <td>NaN</td>\n",
              "      <td>NaN</td>\n",
              "      <td>NaN</td>\n",
              "      <td>Buenos Aires</td>\n",
              "      <td>NaN</td>\n",
              "      <td>2015</td>\n",
              "      <td>9</td>\n",
              "      <td>244</td>\n",
              "    </tr>\n",
              "    <tr>\n",
              "      <th>2015-02-10</th>\n",
              "      <td>131-Bue</td>\n",
              "      <td>131</td>\n",
              "      <td>30.0</td>\n",
              "      <td>NaN</td>\n",
              "      <td>Grandwich</td>\n",
              "      <td>Manuela Pedraza 1633.</td>\n",
              "      <td>Roberto Palicio</td>\n",
              "      <td>Grandwich</td>\n",
              "      <td>María Eva</td>\n",
              "      <td>NaN</td>\n",
              "      <td>NaN</td>\n",
              "      <td>NaN</td>\n",
              "      <td>NaN</td>\n",
              "      <td>Buenos Aires</td>\n",
              "      <td>NaN</td>\n",
              "      <td>2015</td>\n",
              "      <td>2</td>\n",
              "      <td>244</td>\n",
              "    </tr>\n",
              "    <tr>\n",
              "      <th>2015-09-23</th>\n",
              "      <td>125-Bue</td>\n",
              "      <td>125</td>\n",
              "      <td>35.0</td>\n",
              "      <td>NaN</td>\n",
              "      <td>Grandwich</td>\n",
              "      <td>Manuela Pedraza 1633.</td>\n",
              "      <td>Hector Ricardo Coronel</td>\n",
              "      <td>Grandwich</td>\n",
              "      <td>La Casita de la Virgen</td>\n",
              "      <td>NaN</td>\n",
              "      <td>NaN</td>\n",
              "      <td>NaN</td>\n",
              "      <td>NaN</td>\n",
              "      <td>Buenos Aires</td>\n",
              "      <td>NaN</td>\n",
              "      <td>2015</td>\n",
              "      <td>9</td>\n",
              "      <td>244</td>\n",
              "    </tr>\n",
              "    <tr>\n",
              "      <th>2015-09-10</th>\n",
              "      <td>138-Bue</td>\n",
              "      <td>138</td>\n",
              "      <td>85.0</td>\n",
              "      <td>NaN</td>\n",
              "      <td>Grandwich</td>\n",
              "      <td>Manuela Pedraza 1633.</td>\n",
              "      <td>Eduardo Alonso</td>\n",
              "      <td>Grandwich</td>\n",
              "      <td>Resplandor del Sur</td>\n",
              "      <td>NaN</td>\n",
              "      <td>NaN</td>\n",
              "      <td>NaN</td>\n",
              "      <td>NaN</td>\n",
              "      <td>Buenos Aires</td>\n",
              "      <td>NaN</td>\n",
              "      <td>2015</td>\n",
              "      <td>9</td>\n",
              "      <td>244</td>\n",
              "    </tr>\n",
              "  </tbody>\n",
              "</table>\n",
              "</div>"
            ],
            "text/plain": [
              "           #res.glob  #rescate  Kilos  ...  year month freq_solicitante\n",
              "Fecha                                  ...                             \n",
              "2015-10-16   142-Bue       142   53.0  ...  2015    10              244\n",
              "2015-09-18   122-Bue       122   30.0  ...  2015     9              244\n",
              "2015-02-10   131-Bue       131   30.0  ...  2015     2              244\n",
              "2015-09-23   125-Bue       125   35.0  ...  2015     9              244\n",
              "2015-09-10   138-Bue       138   85.0  ...  2015     9              244\n",
              "\n",
              "[5 rows x 18 columns]"
            ]
          },
          "metadata": {
            "tags": []
          },
          "execution_count": 82
        }
      ]
    },
    {
      "cell_type": "markdown",
      "metadata": {
        "id": "W43C3FkUfHbN",
        "colab_type": "text"
      },
      "source": [
        "En lo siguiente, se pueden visualizar los kilos donados durante el tiempo"
      ]
    },
    {
      "cell_type": "markdown",
      "metadata": {
        "id": "LjtiCYu0fnpA",
        "colab_type": "text"
      },
      "source": [
        "De forma contínua:"
      ]
    },
    {
      "cell_type": "code",
      "metadata": {
        "id": "DItIyLzdrlOx",
        "colab_type": "code",
        "outputId": "0053b720-05db-405c-a0ae-e535220ff403",
        "colab": {
          "base_uri": "https://localhost:8080/",
          "height": 277
        }
      },
      "source": [
        "Grandwich['Kilos'].plot()\n",
        "sns.despine()"
      ],
      "execution_count": 0,
      "outputs": [
        {
          "output_type": "display_data",
          "data": {
            "image/png": "[encoded data removed]",
            "text/plain": [
              "<Figure size 432x288 with 1 Axes>"
            ]
          },
          "metadata": {
            "tags": []
          }
        }
      ]
    },
    {
      "cell_type": "markdown",
      "metadata": {
        "id": "k-Wn4X1bfq-4",
        "colab_type": "text"
      },
      "source": [
        "juntando por meses y años, para intentar distinguir alguna periodicidad:"
      ]
    },
    {
      "cell_type": "code",
      "metadata": {
        "id": "MTpxu9Jc1mU1",
        "colab_type": "code",
        "outputId": "93d715db-c8de-40d5-c299-013bffccdeb0",
        "colab": {
          "base_uri": "https://localhost:8080/",
          "height": 279
        }
      },
      "source": [
        "sns.lineplot('month','Kilos',hue='year',data=Grandwich['2017':'2019'], markers='None');"
      ],
      "execution_count": 0,
      "outputs": [
        {
          "output_type": "display_data",
          "data": {
            "image/png": "[encoded data removed]",
            "text/plain": [
              "<Figure size 432x288 with 1 Axes>"
            ]
          },
          "metadata": {
            "tags": []
          }
        }
      ]
    },
    {
      "cell_type": "code",
      "metadata": {
        "id": "2JGD6sZh3bti",
        "colab_type": "code",
        "outputId": "602fddc6-39be-4cd8-aed7-998cec83f85b",
        "colab": {
          "base_uri": "https://localhost:8080/",
          "height": 301
        }
      },
      "source": [
        "Grandwich['2019'].boxplot(column='Kilos',by='month')\n",
        "sns.despine()"
      ],
      "execution_count": 0,
      "outputs": [
        {
          "output_type": "display_data",
          "data": {
            "image/png": "[encoded data removed]",
            "text/plain": [
              "<Figure size 432x288 with 1 Axes>"
            ]
          },
          "metadata": {
            "tags": []
          }
        }
      ]
    },
    {
      "cell_type": "code",
      "metadata": {
        "id": "wo95_C674Phc",
        "colab_type": "code",
        "outputId": "2ec7f174-bbf0-496c-8e4a-0aeeb4b1f2fb",
        "colab": {
          "base_uri": "https://localhost:8080/",
          "height": 301
        }
      },
      "source": [
        "Grandwich.boxplot(column='Kilos',by='year');"
      ],
      "execution_count": 0,
      "outputs": [
        {
          "output_type": "display_data",
          "data": {
            "image/png": "[encoded data removed]",
            "text/plain": [
              "<Figure size 432x288 with 1 Axes>"
            ]
          },
          "metadata": {
            "tags": []
          }
        }
      ]
    },
    {
      "cell_type": "markdown",
      "metadata": {
        "id": "N-ExqIiBnHBN",
        "colab_type": "text"
      },
      "source": [
        "Agregar latitudes y longitudes para una columna con direcciones"
      ]
    },
    {
      "cell_type": "code",
      "metadata": {
        "id": "LDtuNUoGm9i0",
        "colab_type": "code",
        "colab": {}
      },
      "source": [
        "import geopy"
      ],
      "execution_count": 0,
      "outputs": []
    },
    {
      "cell_type": "code",
      "metadata": {
        "id": "Hx4u82OFoDuO",
        "colab_type": "code",
        "outputId": "6d7ac9aa-a0e5-448c-db84-cd90fe206ba8",
        "colab": {
          "base_uri": "https://localhost:8080/",
          "height": 760
        }
      },
      "source": [
        "dir(geopy)"
      ],
      "execution_count": 0,
      "outputs": [
        {
          "output_type": "execute_result",
          "data": {
            "text/plain": [
              "['ArcGIS',\n",
              " 'AzureMaps',\n",
              " 'Baidu',\n",
              " 'Bing',\n",
              " 'DataBC',\n",
              " 'GeoNames',\n",
              " 'GeocodeEarth',\n",
              " 'GeocodeFarm',\n",
              " 'GoogleV3',\n",
              " 'Here',\n",
              " 'IGNFrance',\n",
              " 'LiveAddress',\n",
              " 'Location',\n",
              " 'MapBox',\n",
              " 'Nominatim',\n",
              " 'OpenCage',\n",
              " 'OpenMapQuest',\n",
              " 'Pelias',\n",
              " 'Photon',\n",
              " 'PickPoint',\n",
              " 'Point',\n",
              " 'TomTom',\n",
              " 'What3Words',\n",
              " 'Yandex',\n",
              " '__builtins__',\n",
              " '__cached__',\n",
              " '__doc__',\n",
              " '__file__',\n",
              " '__loader__',\n",
              " '__name__',\n",
              " '__package__',\n",
              " '__path__',\n",
              " '__spec__',\n",
              " '__version__',\n",
              " 'compat',\n",
              " 'exc',\n",
              " 'format',\n",
              " 'geocoders',\n",
              " 'get_geocoder_for_service',\n",
              " 'location',\n",
              " 'point',\n",
              " 'units',\n",
              " 'util']"
            ]
          },
          "metadata": {
            "tags": []
          },
          "execution_count": 41
        }
      ]
    },
    {
      "cell_type": "code",
      "metadata": {
        "id": "AASGyImBoFw3",
        "colab_type": "code",
        "colab": {}
      },
      "source": [
        "from geopy.geocoders import Nominatim"
      ],
      "execution_count": 0,
      "outputs": []
    },
    {
      "cell_type": "code",
      "metadata": {
        "id": "wH7hCpNuoPsz",
        "colab_type": "code",
        "outputId": "3edafb47-ff94-4e18-e839-0e8848a031cb",
        "colab": {
          "base_uri": "https://localhost:8080/",
          "height": 72
        }
      },
      "source": [
        "nom = Nominatim()"
      ],
      "execution_count": 0,
      "outputs": [
        {
          "output_type": "stream",
          "text": [
            "/usr/local/lib/python3.6/dist-packages/geopy/geocoders/osm.py:143: UserWarning: Using Nominatim with the default \"geopy/1.17.0\" `user_agent` is strongly discouraged, as it violates Nominatim's ToS https://operations.osmfoundation.org/policies/nominatim/ and may possibly cause 403 and 429 HTTP errors. Please specify a custom `user_agent` with `Nominatim(user_agent=\"my-application\")` or by overriding the default `user_agent`: `geopy.geocoders.options.default_user_agent = \"my-application\"`. In geopy 2.0 this will become an exception.\n",
            "  UserWarning\n"
          ],
          "name": "stderr"
        }
      ]
    },
    {
      "cell_type": "code",
      "metadata": {
        "id": "PTACk6HuoRiV",
        "colab_type": "code",
        "outputId": "978ba136-d4b6-4ec3-ae22-b4214d468567",
        "colab": {
          "base_uri": "https://localhost:8080/",
          "height": 35
        }
      },
      "source": [
        "direccion_retiro = plato['dirección retiro'].dropna()\n",
        "n = nom.geocode(direccion_retiro[0])\n",
        "\n",
        "print(n.latitude, n.longitude)"
      ],
      "execution_count": 0,
      "outputs": [
        {
          "output_type": "stream",
          "text": [
            "35.1614859 -94.6032781\n"
          ],
          "name": "stdout"
        }
      ]
    },
    {
      "cell_type": "code",
      "metadata": {
        "id": "s4UNyfkxpc-2",
        "colab_type": "code",
        "colab": {}
      },
      "source": [
        " plato['dirección retiro'].dropna().apply(nom.geocode)"
      ],
      "execution_count": 0,
      "outputs": []
    },
    {
      "cell_type": "code",
      "metadata": {
        "id": "pPyTZWBmpv89",
        "colab_type": "code",
        "colab": {}
      },
      "source": [
        "dir_retiro_coordenadas"
      ],
      "execution_count": 0,
      "outputs": []
    }
  ]
}